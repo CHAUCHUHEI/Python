{
  "metadata": {
    "kernelspec": {
      "name": "xpython",
      "display_name": "Python 3.13 (XPython)",
      "language": "python"
    },
    "language_info": {
      "file_extension": ".py",
      "mimetype": "text/x-python",
      "name": "python",
      "version": "3.13.1"
    }
  },
  "nbformat_minor": 5,
  "nbformat": 4,
  "cells": [
    {
      "id": "6d510877-20d5-4f8b-b5f9-42e56f4c10bb",
      "cell_type": "markdown",
      "source": "# Data Science Tools and Ecosystem",
      "metadata": {}
    },
    {
      "id": "beb3a7f2-16f6-4782-924f-3a8b58f776e0",
      "cell_type": "markdown",
      "source": "In this notebook, We will also demonstrate some simple arithmetic operations using Python.",
      "metadata": {}
    },
    {
      "id": "5c5f91e8-4f23-4bb0-826e-2c420f899cce",
      "cell_type": "markdown",
      "source": "## Languages used in Data Science\n- Python\n- R\n- SQL\n- Julia\n- Scala",
      "metadata": {}
    },
    {
      "id": "18af54c1-6815-45c1-bc16-0eea2813e786",
      "cell_type": "markdown",
      "source": "## Data Science Libraries\n- Pandas\n- NumPy\n- Matplotlib\n- Seaborn\n- Scikit-learn\n- TensorFlow",
      "metadata": {}
    },
    {
      "id": "def8dc83-a416-483f-b9d9-e57dd278c09f",
      "cell_type": "markdown",
      "source": "## Table of Data Science Tools\n\n| Tool            | Category       |\n|-----------------|----------------|\n| Jupyter Notebook| IDE            |\n| Apache Spark    | Big Data Tool  |\n| TensorFlow      | Deep Learning  |\n| RStudio         | IDE            |\n| Hadoop          | Big Data Tool  |",
      "metadata": {}
    },
    {
      "id": "797f970c-07db-4a8d-86a0-e739a9bf0ba0",
      "cell_type": "markdown",
      "source": "## Examples of Arithmetic Expressions\nBelow are some examples of simple arithmetic expressions in Python.",
      "metadata": {}
    },
    {
      "id": "ba3a9edb-95cb-4138-87a9-58379f619ae2",
      "cell_type": "code",
      "source": "# This code multiplies and adds numbers\nresult = (3 * 4) + 5\nprint(result)",
      "metadata": {
        "trusted": true
      },
      "outputs": [
        {
          "name": "stdout",
          "output_type": "stream",
          "text": "17\n"
        }
      ],
      "execution_count": 1
    },
    {
      "id": "72fa0133-1944-4faf-8462-a2f0652214b3",
      "cell_type": "code",
      "source": "# Convert 200 minutes to hours\nminutes = 200\nhours = minutes / 60\nprint(hours)",
      "metadata": {
        "trusted": true
      },
      "outputs": [
        {
          "name": "stdout",
          "output_type": "stream",
          "text": "3.3333333333333335\n"
        }
      ],
      "execution_count": 2
    },
    {
      "id": "514d2757-4e73-45f7-9d78-c8e7f54f5d42",
      "cell_type": "markdown",
      "source": "## Objectives\n- List popular languages in Data Science\n- List commonly used libraries\n- Create tables using Markdown\n- Perform simple arithmetic using Python\n- Convert time units",
      "metadata": {}
    },
    {
      "id": "98b78eee-c9bc-4958-8d73-799f771d2687",
      "cell_type": "markdown",
      "source": "**Author:** CHAU",
      "metadata": {}
    },
    {
      "id": "a3741166-c262-487e-8239-14214adb6fb7",
      "cell_type": "code",
      "source": "",
      "metadata": {
        "trusted": true
      },
      "outputs": [],
      "execution_count": null
    }
  ]
}